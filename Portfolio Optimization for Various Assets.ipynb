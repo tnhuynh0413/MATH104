{
 "cells": [
  {
   "cell_type": "markdown",
   "id": "ae1bebfa",
   "metadata": {},
   "source": [
    "# Motivation and Problem Statement"
   ]
  },
  {
   "cell_type": "markdown",
   "id": "cb17d32b",
   "metadata": {},
   "source": [
    "For my MATH 104B final project, I chose to focus on portfolio optimization and modern portfolio theory. The modern portfolio theory refers to the objective of maximizing returns for a given risk. More specifically, I am interested in determining the minimum variance portfolio. The concept of the minimum variance portfolio stems from the goal to maximize returns while minimizing risk. The return, in this case, refers to the portfolio's expected rate of return $\\mu_p$ while the risk refers to its standard deviation $\\sigma_p$. This can be achieved by transforming the Markowitz Problem into an optimization problem with the use of the Method of Lagrange Multipliers. This optimization problem can then be solved using linear systems and matrix algebra along with the gaussian elimination with backward substitution algorithm. \n",
    "\n",
    "To expand my knowledge with a real-world application, I decided to find the minimum variance portfolio of selected stocks active between 2014 and 2018 using data from Yahoo Finance. I also determined the changes of the frontier portfolio graph that resulted from adding one more asset to the portfolio. Thus, my report answers the following questions:\n",
    "- What is the minimum variance portfolio for two selected assets (Apple and Google)? \n",
    "- What is the minimum variance portfolio for three selected assets (Apple, Google, and Meta)? \n",
    "- How does adding an asset change the frontier portfolio graph?"
   ]
  },
  {
   "cell_type": "markdown",
   "id": "fc1abb64",
   "metadata": {},
   "source": [
    "The cell below imports the packages I used throughout this project."
   ]
  },
  {
   "cell_type": "code",
   "execution_count": 1,
   "id": "7842e981",
   "metadata": {},
   "outputs": [],
   "source": [
    "import numpy as np\n",
    "import pandas as pd\n",
    "from pandas_datareader import data\n",
    "import matplotlib.pyplot as plt\n",
    "from pandas_datareader import data as pdr\n",
    "import yfinance as yfin\n",
    "from PIL import Image\n",
    "%matplotlib inline"
   ]
  },
  {
   "cell_type": "markdown",
   "id": "e81db772",
   "metadata": {},
   "source": [
    "# Methods and Validation"
   ]
  },
  {
   "cell_type": "markdown",
   "id": "d2af75f3",
   "metadata": {},
   "source": [
    "Let $\\omega_i$ be the weight of the $\\mathrm{i}^{\\text {th }}$ asset in a portfolio where\n",
    "\\begin{align}\n",
    "\\sum_{i=1}^n \\omega_i=1 .\n",
    "\\end{align}"
   ]
  },
  {
   "cell_type": "markdown",
   "id": "71670e7c",
   "metadata": {},
   "source": [
    "The rate of return for the $\\mathrm{i}^{\\text {th }}$ asset is denoted as $\\rho_i$. Then, the expected rate of return for the $\\mathrm{i}^{\\text {th }}$ asset is defined as follows:\n",
    "\\begin{align}\n",
    "\\mu_i=E\\left[\\rho_i\\right].\n",
    "\\end{align}"
   ]
  },
  {
   "cell_type": "markdown",
   "id": "23e4eaac",
   "metadata": {},
   "source": [
    "Similarly, the rate of return for a portfolio is denoted as $\\rho_p$ and the expected rate of return for a portfolio is defined as follows:\n",
    "$$\\mu_p=\\sum_{i=1}^n \\omega_i \\mu_i$$"
   ]
  },
  {
   "cell_type": "markdown",
   "id": "0b09c2fc",
   "metadata": {},
   "source": [
    "The covariance for the returns of the $\\mathrm{i}^{\\text {th }}$ and $\\mathrm{j}^{\\text {th }}$ asset is given by\n",
    "$$\n",
    "\\sigma_{i, j}=E\\left[\\left(\\rho_i-\\mu_i\\right)\\left(\\rho_j-\\mu_j\\right)\\right].\n",
    "$$\n",
    "This implies the covariance matrix $V$ where\n",
    "$$\n",
    "V=\\left[\\begin{array}{cccc}\n",
    "\\sigma_{1,1} & \\sigma_{1,2} & \\ldots & \\sigma_{1, n} \\\\\n",
    "\\sigma_{2,1} & \\sigma_{2,2} & \\ldots & \\sigma_{2, n} \\\\\n",
    "\\vdots & \\vdots & \\ddots & \\vdots \\\\\n",
    "\\sigma_{n, 1} & \\sigma_{n, 2} & \\ldots & \\sigma_{n, n}\n",
    "\\end{array}\\right] .\n",
    "$$\n",
    "Note from above that $\\sigma_{i, j}=\\sigma_{j, i}$ and that $\\sigma_{i, i}=\\sigma_i^2=\\operatorname{Var}\\left(\\rho_i\\right)=E\\left[\\left(\\rho_i-\\mu_i\\right)^2\\right]$ when $i=j$.\n",
    "\n",
    "Also note that the standard deviation for the $\\mathrm{i}^{\\text {th }}$ asset is $\\sigma_i=\\sqrt{\\operatorname{Var}\\left(\\rho_i\\right)}$.\n"
   ]
  },
  {
   "cell_type": "markdown",
   "id": "05a692ef",
   "metadata": {},
   "source": [
    "Similarly, the variance for the rate of return of the portfolio can be written as follows:\n",
    "$$\n",
    "\\sigma_p^2=E\\left[\\left(\\rho_p-\\mu_p\\right)^2\\right]=\\boldsymbol{w}^T V \\boldsymbol{w}\n",
    "$$\n",
    "where $w^T=\\left[\\omega_1, \\omega_2, \\ldots, \\omega_n\\right]$.\n"
   ]
  },
  {
   "cell_type": "markdown",
   "id": "c12d4abe",
   "metadata": {},
   "source": [
    "Using the above definitions and equations, the Markowitz problem can be solved as an optimization problem:\n",
    "$$\n",
    "\\begin{aligned}\n",
    "\\operatorname{minimize} \\frac{1}{2} \\boldsymbol{w}^T V \\boldsymbol{w} \\\\\n",
    "\\text { subject to the following: } g_1 &= \\sum_{i=1}^n \\omega_i \\mu_i-\\mu_p=0 \\\\\n",
    "g_2 & =\\sum_{i=1}^n \\omega_i-1=0 .\n",
    "\\end{aligned}\n",
    "$$\n"
   ]
  },
  {
   "cell_type": "markdown",
   "id": "52e408bf",
   "metadata": {},
   "source": [
    "One way to solve this is to use the Method of Lagrange Multipliers.\n",
    "\n",
    "The general function for the Lagrangian in this context is as follows:\n",
    "$$\n",
    "L\\left(\\boldsymbol{w} \\mid \\lambda_1, \\lambda_2\\right)=f(\\boldsymbol{w})-\\lambda_1 g_1(\\boldsymbol{w})-\\lambda_2 g_2(\\boldsymbol{w}).\n",
    "$$"
   ]
  },
  {
   "cell_type": "markdown",
   "id": "ba129b2e",
   "metadata": {},
   "source": [
    "Note that the constraints of the Method of Lagrange Multipliers are satisfied for this optimization problem to find the minima since the constraints $g_1=g_2=0$.\n",
    "\n",
    "Thus, $\\left(\\boldsymbol{w}, \\lambda_1, \\lambda_2\\right)$ as a critical point of $\\mathrm{L}$ is defined as follows:\n",
    "$$\n",
    "\\frac{\\partial L}{\\partial \\boldsymbol{w}}=\\nabla_{\\boldsymbol{w}} L=\\left[\\begin{array}{c}\n",
    "\\frac{\\partial L}{\\partial w_1} \\\\\n",
    "\\frac{\\partial L}{\\partial w_2} \\\\\n",
    "\\vdots \\\\\n",
    "\\frac{\\partial L}{\\partial w_n}\n",
    "\\end{array}\\right]=0\n",
    "$$\n",
    "and $\\frac{\\partial L}{\\partial \\lambda_1}=0, \\frac{\\partial L}{\\partial \\lambda_2}=0$."
   ]
  },
  {
   "cell_type": "markdown",
   "id": "81c810e5",
   "metadata": {},
   "source": [
    "After substituting and rearranging, the Lagrangian becomes\n",
    "$$\n",
    "L\\left(\\boldsymbol{w}, \\lambda_1, \\lambda_2\\right)=\\frac{1}{2} \\boldsymbol{w}^T V \\boldsymbol{w}+\\lambda_1\\left(\\mu_p-\\boldsymbol{w}^T \\boldsymbol{\\mu}\\right)+\\lambda_2\\left(1-\\boldsymbol{w}^T \\mathbf{1}\\right)\n",
    "$$\n",
    "in which\n",
    "$$\n",
    "\\begin{gathered}\n",
    "\\nabla_{\\boldsymbol{w}} L=V \\boldsymbol{w}_p-\\lambda_1 \\boldsymbol{\\mu}-\\lambda_2 \\mathbf{1}=0 \\\\\n",
    "\\frac{\\partial L}{\\partial \\lambda_1}=\\mu_p-\\boldsymbol{w}_p^T \\boldsymbol{\\mu}=0 \\\\\n",
    "\\frac{\\partial L}{\\partial \\lambda_2}=1-\\boldsymbol{w}_p^T \\mathbf{1}=0 .\n",
    "\\end{gathered}\n",
    "$$"
   ]
  },
  {
   "cell_type": "markdown",
   "id": "a3f58c9d",
   "metadata": {},
   "source": [
    "As a result, the problem can be transformed as shown below:\n",
    "$$\n",
    "V \\boldsymbol{w}_p=\\lambda_1 \\boldsymbol{\\mu}+\\lambda_2 \\mathbf{1}.\n",
    "$$"
   ]
  },
  {
   "cell_type": "markdown",
   "id": "744c780e",
   "metadata": {},
   "source": [
    "This leads to the following linear system:\n",
    "$$\n",
    "\\begin{aligned}\n",
    "\\left(\\boldsymbol{\\mu}^T V^{-1} \\boldsymbol{\\mu}\\right) \\lambda_1+\\left(\\boldsymbol{\\mu}^T V^{-1} \\mathbf{1}\\right) \\lambda_2 & =\\mu_p \\\\\n",
    "\\left(\\mathbf{1}^T V^{-1} \\boldsymbol{\\mu}\\right) \\lambda_1+\\left(\\mathbf{1}^T V^{-1} \\mathbf{1}\\right) \\lambda_2 & =1\n",
    "\\end{aligned}\n",
    "$$\n",
    "and its matrix form:\n",
    "$$\n",
    "\\left[\\begin{array}{cc}\n",
    "\\boldsymbol{\\mu}^T V^{-1} \\boldsymbol{\\mu} & \\boldsymbol{\\mu}^T V^{-1} \\mathbf{1} \\\\\n",
    "\\mathbf{1}^T V^{-1} \\boldsymbol{\\mu} & \\mathbf{1}^T V^{-1} \\mathbf{1}\n",
    "\\end{array}\\right]\\left[\\begin{array}{c}\n",
    "\\lambda_1 \\\\\n",
    "\\lambda_2\n",
    "\\end{array}\\right]=\\left[\\begin{array}{c}\n",
    "\\mu_p \\\\\n",
    "1\n",
    "\\end{array}\\right]\n",
    "$$\n",
    "Note that\n",
    "$$\n",
    "\\boldsymbol{\\mu}^T V^{-1} \\mathbf{1}=\\mathbf{1}^T V^{-1} \\boldsymbol{\\mu}.\n",
    "$$\n",
    "Then the previous matrix representation can be rewritten to\n",
    "$$\n",
    "\\left[\\begin{array}{ll}\n",
    "B & A \\\\\n",
    "A & C\n",
    "\\end{array}\\right]\\left[\\begin{array}{l}\n",
    "\\lambda_1 \\\\\n",
    "\\lambda_2\n",
    "\\end{array}\\right]=\\left[\\begin{array}{c}\n",
    "\\mu_p \\\\\n",
    "1\n",
    "\\end{array}\\right]\n",
    "$$\n",
    "where\n",
    "$$\n",
    "\\left[\\begin{array}{ll}\n",
    "B & A \\\\\n",
    "A & C\n",
    "\\end{array}\\right]=\\left[\\begin{array}{ll}\n",
    "\\boldsymbol{\\mu}^T V^{-1} \\boldsymbol{\\mu} & \\boldsymbol{\\mu}^T V^{-1} \\mathbf{1} \\\\\n",
    "\\mathbf{1}^T V^{-1} \\boldsymbol{\\mu} & \\mathbf{1}^T V^{-1} \\mathbf{1}\n",
    "\\end{array}\\right].\n",
    "$$"
   ]
  },
  {
   "cell_type": "markdown",
   "id": "4af2ea6d",
   "metadata": {},
   "source": [
    "The gaussian elimination with backward substitution algorithm can solve this matrix:"
   ]
  },
  {
   "cell_type": "code",
   "execution_count": 2,
   "id": "1cb28aa2",
   "metadata": {},
   "outputs": [],
   "source": [
    "def gebs(A, b):\n",
    "    n = len(b)\n",
    "    E = A\n",
    "    \n",
    "    for i in range(n):\n",
    "        for j in range(i+1, n):\n",
    "            num = E[j][i] / E[i][i]\n",
    "            \n",
    "            for k in range(i, n):\n",
    "                E[j][k] -= num * E[i][k]\n",
    "            b[j] -= num * b[i]\n",
    "    \n",
    "    x = np.zeros(n)\n",
    "    \n",
    "    for i in range(n-1, -1, -1):\n",
    "        \n",
    "        if E[n-1, n-1] == 0:\n",
    "            print(\"No unique solution exists.\")\n",
    "            return\n",
    "        \n",
    "        else:\n",
    "            x[i] = b[i] / E[i][i]\n",
    "            \n",
    "        for j in range(i-1, -1, -1):\n",
    "            b[j] -= E[j][i] * x[i]\n",
    "    \n",
    "    return x"
   ]
  },
  {
   "cell_type": "markdown",
   "id": "7957f50a",
   "metadata": {},
   "source": [
    "It yields that\n",
    "$$\n",
    "\\begin{aligned}\n",
    "& \\lambda_1=\\frac{C \\mu_p-A}{D} \\\\\n",
    "& \\lambda_2=\\frac{B-A \\mu_p}{D} .\n",
    "\\end{aligned}\n",
    "$$"
   ]
  },
  {
   "cell_type": "markdown",
   "id": "63c6b0ce",
   "metadata": {},
   "source": [
    "The above result can be substituted back into\n",
    "$$\n",
    "V \\boldsymbol{w}_p=\\lambda_1 \\boldsymbol{\\mu}+\\lambda_2 \\mathbf{1}\n",
    "$$\n",
    "and the gaussian elimination with backward substitution algorithm can be used again to find $\\boldsymbol{w}_{\\mathrm{p}}$. "
   ]
  },
  {
   "cell_type": "markdown",
   "id": "13263978",
   "metadata": {},
   "source": [
    "Therefore, we can analytically solve for the weight of each asset in a portfolio $\\boldsymbol{w}_{\\mathrm{p}}$ using the Method of Lagrange Multipliers. These weights can then be used to calculate the expected rate of return and standard deviation."
   ]
  },
  {
   "cell_type": "markdown",
   "id": "752d61fa",
   "metadata": {},
   "source": [
    "# Results and Summary"
   ]
  },
  {
   "cell_type": "markdown",
   "id": "93863158",
   "metadata": {},
   "source": [
    "I created a random weight distribution simulator and used each asset's expected rate of return to later on calculate the portfolio's expected rate of returns $\\mu_p$ and risk $\\sigma_p$. The frontier portfolio graph below shows my results for Apple and Google from 2014 to 2018."
   ]
  },
  {
   "cell_type": "code",
   "execution_count": 3,
   "id": "7442b94d",
   "metadata": {},
   "outputs": [],
   "source": [
    "def mvp_w2(mat, mean1, mean2):\n",
    "    \n",
    "    base = mat\n",
    "    mus = np.array([mean1, mean2])\n",
    "    inverse = np.linalg.inv(base)\n",
    "    n = base.shape[0]\n",
    "    m_ones = np.ones((n, 1))\n",
    "    \n",
    "    \n",
    "    num = len(mus)\n",
    "    eq_w = 1/num\n",
    "    \n",
    "    eq_w_list = [eq_w]\n",
    "    w_list = np.repeat(eq_w_list, num)\n",
    "\n",
    "    \n",
    "    mu_p = np.dot(w_list, mus)\n",
    "\n",
    "    \n",
    "    pre_B = np.dot(mus.T, inverse)\n",
    "    B = np.dot(pre_B, mus)\n",
    "    B = np.float64(B)\n",
    "    \n",
    "    pre_A = np.dot(mus.T, inverse)\n",
    "    A = np.dot(pre_A, m_ones)\n",
    "    A = np.float64(A)\n",
    "    \n",
    "    pre_C = np.dot(m_ones.T, inverse)\n",
    "    C = np.dot(pre_C, m_ones)\n",
    "    C = np.float64(C)\n",
    "    \n",
    "    new_mat = [[B,A],[A,C]]\n",
    "    new_mat = np.array([[B,A],[A,C]], dtype='object')\n",
    "    \n",
    "    b_mat = np.array([mu_p,1])\n",
    "    \n",
    "    l_mat = gebs(new_mat, b_mat)\n",
    "\n",
    "    \n",
    "    l_1 = l_mat[0]\n",
    "\n",
    "    l_2 = l_mat[1]\n",
    "\n",
    "    \n",
    "    part1 = l_1 * mus\n",
    "\n",
    "    part2 = l_2 * m_ones\n",
    "\n",
    "    \n",
    "    combined = part1 + part2\n",
    "    actual = combined[0]\n",
    "    \n",
    "    output = gebs(base, actual)\n",
    "    \n",
    "    return output"
   ]
  },
  {
   "cell_type": "code",
   "execution_count": 4,
   "id": "7ce964e6",
   "metadata": {},
   "outputs": [
    {
     "name": "stdout",
     "output_type": "stream",
     "text": [
      "[*********************100%***********************]  2 of 2 completed\n"
     ]
    }
   ],
   "source": [
    "yfin.pdr_override()\n",
    "df = pdr.DataReader(['AAPL','GOOG'],start='2014-01-01',end='2019-01-01')\n",
    "\n",
    "df = df['Adj Close']\n",
    "\n",
    "cov_matrix = df.pct_change().apply(lambda x: np.log(1+x)).cov()\n",
    "cov_matrix = np.array(cov_matrix)\n",
    "\n",
    "actual_weights = mvp_w2(cov_matrix, 0.6, 0.4)\n",
    "\n",
    "mus = df.resample('Y').last().pct_change().mean()\n",
    "mus = np.array(mus)\n",
    "\n",
    "new_mu_p = np.dot(actual_weights, mus)\n",
    "\n",
    "var = np.dot(np.dot(actual_weights, cov_matrix), actual_weights) ** (1/2) "
   ]
  },
  {
   "cell_type": "code",
   "execution_count": 5,
   "id": "ce0fa2d4",
   "metadata": {},
   "outputs": [],
   "source": [
    "np.random.seed(9163)\n",
    "\n",
    "iterations = 100000\n",
    "\n",
    "num_portfolios = 2\n",
    "\n",
    "graph_mu = []\n",
    "graph_sig = []\n",
    "\n",
    "w = np.random.random((iterations, num_portfolios))\n",
    "w = w / np.sum(w, axis=1, keepdims=True)\n",
    "\n",
    "for i in range(len(w)):\n",
    "    w1 = w[i][0]\n",
    "    w2 = w[i][1]\n",
    "    actual_weights = mvp_w2(cov_matrix, w1, w2)\n",
    "    \n",
    "    new_mu_p = np.dot(actual_weights, mus)\n",
    "    graph_mu.append(new_mu_p)\n",
    "    \n",
    "    var = np.dot(np.dot(actual_weights, cov_matrix), actual_weights) ** (1/2)\n",
    "    graph_sig.append(var)"
   ]
  },
  {
   "cell_type": "code",
   "execution_count": 6,
   "id": "6934116b",
   "metadata": {},
   "outputs": [
    {
     "data": {
      "image/png": "[encoded data removed]",
      "text/plain": [
       "<Figure size 432x288 with 1 Axes>"
      ]
     },
     "metadata": {
      "needs_background": "light"
     },
     "output_type": "display_data"
    }
   ],
   "source": [
    "plt.scatter(x=graph_sig, y=graph_mu)\n",
    "plt.title(\"Portfolio Frontier: Apple & Google (2014-2018)\")\n",
    "plt.scatter(min(graph_sig), graph_mu[graph_sig.index(min(graph_sig))], c='orange', label='Minimum-Variance Portfolio')\n",
    "plt.xlim([0.01, 0.013])\n",
    "plt.ylim([0.13, 0.22])\n",
    "plt.xlabel('Risk')\n",
    "plt.ylabel('Return')\n",
    "plt.grid()\n",
    "plt.legend()\n",
    "plt.savefig(\"output.jpg\")"
   ]
  },
  {
   "cell_type": "code",
   "execution_count": 7,
   "id": "ad5bc571",
   "metadata": {},
   "outputs": [
    {
     "data": {
      "text/plain": [
       "0.1725983495116722"
      ]
     },
     "execution_count": 7,
     "metadata": {},
     "output_type": "execute_result"
    }
   ],
   "source": [
    "graph_mu[graph_sig.index(min(graph_sig))]"
   ]
  },
  {
   "cell_type": "code",
   "execution_count": 8,
   "id": "f296e82f",
   "metadata": {},
   "outputs": [
    {
     "data": {
      "text/plain": [
       "0.01103217323160941"
      ]
     },
     "execution_count": 8,
     "metadata": {},
     "output_type": "execute_result"
    }
   ],
   "source": [
    "min(graph_sig)"
   ]
  },
  {
   "cell_type": "markdown",
   "id": "48bdd041",
   "metadata": {},
   "source": [
    "Note that the expected rate of return for the minimum variance portfolio is approximately 0.1726 with a standard deviation of about 0.01103."
   ]
  },
  {
   "cell_type": "markdown",
   "id": "4f7e2c03",
   "metadata": {},
   "source": [
    "The frontier portfolio graph below displays my results for Apple, Google, and Meta from 2014 to 2018."
   ]
  },
  {
   "cell_type": "code",
   "execution_count": 9,
   "id": "efe70d7e",
   "metadata": {},
   "outputs": [],
   "source": [
    "def mvp_w3(mat, mean1, mean2, mean3):\n",
    "    \n",
    "    base = mat\n",
    "    mus = np.array([mean1, mean2, mean3])\n",
    "    inverse = np.linalg.inv(base)\n",
    "    n = base.shape[0]\n",
    "    m_ones = np.ones((n, 1))\n",
    "    \n",
    "    \n",
    "    num = len(mus)\n",
    "    eq_w = 1/num\n",
    "    \n",
    "    eq_w_list = [eq_w]\n",
    "    w_list = np.repeat(eq_w_list, num)\n",
    "\n",
    "    \n",
    "    mu_p = np.dot(w_list, mus)\n",
    "\n",
    "    \n",
    "    pre_B = np.dot(mus.T, inverse)\n",
    "    B = np.dot(pre_B, mus)\n",
    "    B = np.float64(B)\n",
    "    \n",
    "    pre_A = np.dot(mus.T, inverse)\n",
    "    A = np.dot(pre_A, m_ones)\n",
    "    A = np.float64(A)\n",
    "    \n",
    "    pre_C = np.dot(m_ones.T, inverse)\n",
    "    C = np.dot(pre_C, m_ones)\n",
    "    C = np.float64(C)\n",
    "    \n",
    "    new_mat = [[B,A],[A,C]]\n",
    "    new_mat = np.array([[B,A],[A,C]], dtype='object')\n",
    "    \n",
    "    b_mat = np.array([mu_p,1])\n",
    "    \n",
    "    l_mat = gebs(new_mat, b_mat)\n",
    "\n",
    "    \n",
    "    l_1 = l_mat[0]\n",
    "\n",
    "    l_2 = l_mat[1]\n",
    "\n",
    "    \n",
    "    part1 = l_1 * mus\n",
    "\n",
    "    part2 = l_2 * m_ones\n",
    "\n",
    "    \n",
    "    combined = part1 + part2\n",
    "    actual = combined[0]\n",
    "    \n",
    "    output = gebs(base, actual)\n",
    "    \n",
    "    return output"
   ]
  },
  {
   "cell_type": "code",
   "execution_count": 11,
   "id": "d833e04c",
   "metadata": {},
   "outputs": [
    {
     "name": "stdout",
     "output_type": "stream",
     "text": [
      "[*********************100%***********************]  3 of 3 completed\n"
     ]
    }
   ],
   "source": [
    "yfin.pdr_override()\n",
    "df = pdr.DataReader(['AAPL','GOOG', 'META'],start='2014-01-01',end='2019-01-01')\n",
    "\n",
    "df = df['Adj Close']\n",
    "\n",
    "cov_matrix = df.pct_change().apply(lambda x: np.log(1+x)).cov()\n",
    "cov_matrix = np.array(cov_matrix)\n",
    "\n",
    "actual_weights = mvp_w3(cov_matrix, 0.3333, 0.3333, 0.3333)\n",
    "\n",
    "mus = df.resample('Y').last().pct_change().mean()\n",
    "mus = np.array(mus)\n",
    "\n",
    "new_mu_p = np.dot(actual_weights, mus)\n",
    "\n",
    "var = np.dot(np.dot(actual_weights, cov_matrix), actual_weights) ** (1/2) "
   ]
  },
  {
   "cell_type": "code",
   "execution_count": 12,
   "id": "a1e95800",
   "metadata": {},
   "outputs": [],
   "source": [
    "np.random.seed(4010)\n",
    "\n",
    "iterations = 1000\n",
    "\n",
    "num_portfolios = 3\n",
    "\n",
    "graph_mu = []\n",
    "graph_sig = []\n",
    "\n",
    "w = np.random.random((iterations, num_portfolios))\n",
    "w = w / np.sum(w, axis=1, keepdims=True)\n",
    "\n",
    "for i in range(len(w)):\n",
    "    w1 = w[i][0]\n",
    "    w2 = w[i][1]\n",
    "    w3 = w[i][2]\n",
    "    actual_weights = mvp_w3(cov_matrix, w1, w2, w3)\n",
    "    \n",
    "    new_mu_p = np.dot(actual_weights, mus)\n",
    "    graph_mu.append(new_mu_p)\n",
    "    \n",
    "    var = np.dot(np.dot(actual_weights, cov_matrix), actual_weights) ** (1/2) \n",
    "    graph_sig.append(var)"
   ]
  },
  {
   "cell_type": "code",
   "execution_count": 13,
   "id": "914226e3",
   "metadata": {},
   "outputs": [
    {
     "data": {
      "image/png": "[encoded data removed]",
      "text/plain": [
       "<Figure size 432x288 with 1 Axes>"
      ]
     },
     "metadata": {
      "needs_background": "light"
     },
     "output_type": "display_data"
    }
   ],
   "source": [
    "plt.scatter(x=graph_sig, y=graph_mu)\n",
    "plt.title(\"Portfolio Frontier: Apple, Google, & Meta (2014-2018)\")\n",
    "plt.scatter(min(graph_sig), graph_mu[graph_sig.index(min(graph_sig))], c='orange', label='Minimum-Variance Portfolio')\n",
    "plt.xlim([0, 0.03])\n",
    "plt.ylim([0, 0.4])\n",
    "plt.xlabel('Risk')\n",
    "plt.ylabel('Return')\n",
    "plt.grid()\n",
    "plt.legend()\n",
    "plt.savefig(\"output.jpg\")"
   ]
  },
  {
   "cell_type": "code",
   "execution_count": 14,
   "id": "f36d39d1",
   "metadata": {},
   "outputs": [
    {
     "data": {
      "text/plain": [
       "0.13866887560205"
      ]
     },
     "execution_count": 14,
     "metadata": {},
     "output_type": "execute_result"
    }
   ],
   "source": [
    "graph_mu[graph_sig.index(min(graph_sig))]"
   ]
  },
  {
   "cell_type": "code",
   "execution_count": 15,
   "id": "03b4e58d",
   "metadata": {},
   "outputs": [
    {
     "data": {
      "text/plain": [
       "0.010181257507426256"
      ]
     },
     "execution_count": 15,
     "metadata": {},
     "output_type": "execute_result"
    }
   ],
   "source": [
    "min(graph_sig)"
   ]
  },
  {
   "cell_type": "markdown",
   "id": "39f58386",
   "metadata": {},
   "source": [
    "It shows that the return for this minimum variance portfolio is about 0.1387 with a standard deviation of approximately 0.0102.\n",
    "\n",
    "Adding the Meta asset resulted in more inefficient portfolios for some range of risk. In other words, instead of a simple parabola-shaped curve like the 2-asset frontier portfolio graph, there exist portfolios that are scattered within the parabola-shaped outline in the 3-asset frontier portfolio graph.\n",
    "\n",
    "Overall, this project highlights the intersection of finance and numerical analysis, specifically in relation to portfolio optimization."
   ]
  }
 ],
 "metadata": {
  "kernelspec": {
   "display_name": "Python 3",
   "language": "python",
   "name": "python3"
  },
  "language_info": {
   "codemirror_mode": {
    "name": "ipython",
    "version": 3
   },
   "file_extension": ".py",
   "mimetype": "text/x-python",
   "name": "python",
   "nbconvert_exporter": "python",
   "pygments_lexer": "ipython3",
   "version": "3.8.8"
  }
 },
 "nbformat": 4,
 "nbformat_minor": 5
}
