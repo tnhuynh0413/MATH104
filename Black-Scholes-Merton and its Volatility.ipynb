{
 "cells": [
  {
   "cell_type": "markdown",
   "id": "5b73bcf3",
   "metadata": {},
   "source": [
    "# Motivation and Problem Statement"
   ]
  },
  {
   "cell_type": "markdown",
   "id": "cc53daa5",
   "metadata": {},
   "source": [
    "For my MATH 104A (Numerical Analysis) final project, I chose to focus on the Black-Scholes-Merton model. The Black-Scholes-Merton model is a mathematical pricing model that determines the value of European call and put options. It mainly consists of five input variables: current stock price, strike price, interest rate, time to maturity date, and volatility. I decided to estimate the volatility of the Black-Scholes-Merton formula for call options in this project by experimenting with the following three zero-finding methods: Bisection Method, Newton's Method, and Secant Method. To further expand my knowledge with a real-world application, I used the method with the highest accuracy and Yahoo Finance to compare the implied volatility results. This helped me determine whether the relationship between the strike price and implied volatility of Intel Corporation forms a distinct shape. Thus, my report answers the following questions:\n",
    "-  Which method is the most accurate?\n",
    "-  Which method has the least amount of iterations?\n",
    "-  Real-World Application: How will changing the strike price affect volatility?"
   ]
  },
  {
   "cell_type": "markdown",
   "id": "66cff9c6",
   "metadata": {},
   "source": [
    "To answer the first two questions, I solved three calculation problems using Python to test each method. The parameters of the three calculation problems are defined as follows:\n",
    "1. $s_0= 50, K = 55, r= 0.1, T= 0.5, c= 2.50$\n",
    "2. $s_0= 50, K = 70, r= 0.2, T= 0.7, c= 2$\n",
    "3. $s_0= 100, K = 100, r= 0.1, T= 0.5, c= 5$."
   ]
  },
  {
   "cell_type": "markdown",
   "id": "69a29773",
   "metadata": {},
   "source": [
    "The cell below imports the packages I used throughout this project."
   ]
  },
  {
   "cell_type": "code",
   "execution_count": 1,
   "id": "cad716b5",
   "metadata": {
    "id": "cad716b5"
   },
   "outputs": [],
   "source": [
    "import numpy as np\n",
    "import scipy.stats as sp\n",
    "import scipy as sci\n",
    "import sympy as sy\n",
    "import math as m\n",
    "import datetime as dt\n",
    "import matplotlib.pyplot as plt \n",
    "import pandas_datareader.data as web"
   ]
  },
  {
   "cell_type": "markdown",
   "id": "69e653b8",
   "metadata": {},
   "source": [
    "# Methods and Validation"
   ]
  },
  {
   "cell_type": "markdown",
   "id": "918867d7",
   "metadata": {},
   "source": [
    "The Black-Scholes-Merton formula for call options is defined as \n",
    "\\begin{align}\n",
    "C(s_0, K, T) = s_0N(d_1) - Ke^{-rT}N(d_2)\n",
    "\\end{align}\n",
    "where\n",
    "\\begin{align}\n",
    "d_1 = \\frac{1}{\\sigma\\sqrt{T}}(log{\\frac{s_0}{K}} + (r + \\frac{\\sigma^2}{2})T)\n",
    "\\end{align}\n",
    "\\begin{align}\n",
    "d_2 = \\frac{1}{\\sigma\\sqrt{T}}(log{\\frac{s_0}{K}} + (r - \\frac{\\sigma^2}{2})T)\n",
    "\\end{align}\n",
    "\\begin{align}\n",
    "N(d) = \\frac{1}{\\sqrt{2\\pi}}\\int_{-\\infty}^{d} e^{\\frac{-y^2}{2}} \\,dy.\n",
    "\\end{align}"
   ]
  },
  {
   "cell_type": "code",
   "execution_count": 2,
   "id": "a80b2573",
   "metadata": {
    "id": "a80b2573"
   },
   "outputs": [],
   "source": [
    "def bs_call(s, k, r, t, sig):\n",
    "    \n",
    "    d1 = (1/(sig * np.sqrt(t))) * (np.log(s/k) + (r + ((1/2) * (sig ** 2))) * t)\n",
    "    d2 = (1/(sig * np.sqrt(t))) * (np.log(s/k) + (r - ((1/2) * (sig ** 2))) * t)\n",
    "    \n",
    "    c = (s * sp.norm.cdf(d1)) - (k * np.exp(-r*t)*sp.norm.cdf(d2))\n",
    "    \n",
    "    return c"
   ]
  },
  {
   "cell_type": "markdown",
   "id": "7086ef85",
   "metadata": {},
   "source": [
    "Note its similarity to the Black-Scholes-Merton formula for put options:\n",
    "\\begin{align}\n",
    "P(s_0, K, T) = Ke^{-rT}N(-d_2)-s_0N(-d_1).\n",
    "\\end{align}"
   ]
  },
  {
   "cell_type": "code",
   "execution_count": 3,
   "id": "761cd8c9",
   "metadata": {
    "id": "761cd8c9"
   },
   "outputs": [],
   "source": [
    "def bs_put(s, k, r, t, sig):\n",
    "    \n",
    "    d1 = (1/(sig * np.sqrt(t))) * (np.log(s/k) + (r + ((1/2) * (sig ** 2))) * t)\n",
    "    d2 = (1/(sig * np.sqrt(t))) * (np.log(s/k) + (r - ((1/2) * (sig ** 2))) * t)\n",
    "    \n",
    "    p = (k * np.exp(-r*t) * sp.norm.cdf(-d2)) - (s * sp.norm.cdf(-d1))\n",
    "    \n",
    "    return p"
   ]
  },
  {
   "cell_type": "markdown",
   "id": "e3c7e7c2",
   "metadata": {
    "id": "2dfe4c2a",
    "outputId": "84693249-6710-45c6-8bb7-9dc4b32406af"
   },
   "source": [
    "Thus, this project solely focuses on call options to avoid redundancy."
   ]
  },
  {
   "cell_type": "markdown",
   "id": "b59b50ae",
   "metadata": {},
   "source": [
    "The calculations regarding the implied volatility can be written as a fixed-point problem \n",
    "\\begin{align}\n",
    "f(\\sigma) = \\sigma = C(s_0, K, T) - c.\n",
    "\\end{align}\n",
    "The interval $(0.001, 0.7)$ is chosen because it provides a function $f(\\sigma)$ that is continuous and differentiable. In addition, $f(\\sigma) \\in  (0.001, 0.7)$ for all $ \\sigma \\in (0.001, 0.7)$. Consequently, there exists at least one fixed point in the interval and the following zero-finding methods can be used to solve these problems."
   ]
  },
  {
   "cell_type": "markdown",
   "id": "0e8cd21c",
   "metadata": {},
   "source": [
    "The Bisection method works for these calculations because it can be shown through plugging in the variables with the interval where $a = 0.001$ and $b = 0.7$ that $f(a)$ and $f(b)$ are of opposite signs. Therefore, the Intermediate Value Theorem implies that there is a number $p \\in (a, b)$ where $f(p) = 0$. Thus, it helps estimate a zero where\n",
    "\\begin{align}\n",
    "|p_n - p| \\le \\frac{b-a}{2^n},\n",
    "\\end{align}\n",
    "for $n \\ge 1.$"
   ]
  },
  {
   "cell_type": "code",
   "execution_count": 4,
   "id": "ebee889e",
   "metadata": {},
   "outputs": [],
   "source": [
    "def bs_vol_b_call(s, k, r, t, price, a, b, tol, n0):\n",
    "    \n",
    "    def f(sig):\n",
    "        return bs_call(s, k, r, t, sig) - price\n",
    "    \n",
    "    i = 1\n",
    "    fa = f(a)\n",
    "    \n",
    "    while i<=n0:\n",
    "        \n",
    "        if i>=2:\n",
    "            p0 = p\n",
    "        \n",
    "        p = a + (b-a)/2\n",
    "        fp = f(p)\n",
    "        \n",
    "        if (fp == 0) or ((b-a/2)<tol):\n",
    "            print('p = ',p)\n",
    "            print('i = ',i)\n",
    "            print('absolute error = ', abs((p-p0)))\n",
    "            print('relative error = ', abs((p-p0)/p))\n",
    "            break\n",
    "        \n",
    "        i += 1\n",
    "        \n",
    "        if (fa*fp > 0):\n",
    "            a = p\n",
    "            fa = fp\n",
    "        else: \n",
    "            b = p"
   ]
  },
  {
   "cell_type": "markdown",
   "id": "fc1e517f",
   "metadata": {},
   "source": [
    "The next method, Newton's method, is defined as follows:\n",
    "\n",
    "\\begin{align}\n",
    "p_n= g(p_{n-1})= p_{n-1} - \\frac{f(p_{n-1})}{f'(p_{n-1})},\n",
    "\\end{align}\n",
    "\n",
    "for $n \\ge 1$.\n",
    "\n",
    "To find the implied volatility using Newton's method, the partial derivative of the call option price with respect to the implied volatility (also known as Vega) must be computed:\n",
    "\n",
    "\\begin{align}\n",
    "\\frac{\\partial C}{\\partial\\sigma} = \\frac{s_0\\sqrt{T}e^{\\frac{-d_{1}^{2}}{2}}}{\\sqrt{2\\pi}},\n",
    "\\end{align}\n",
    "\n",
    "where $\\frac{\\partial C}{\\partial\\sigma} > 0$.\n",
    "\n",
    "This implies that Newton's method works in finding a convergent $p \\in (a,b)$ given any initial approximation $p_0$ such that $p_0 \\in [p - \\delta, p + \\delta]$ where $\\delta > 0$ since $f(p) = 0$ and $f'(p) \\neq 0$."
   ]
  },
  {
   "cell_type": "code",
   "execution_count": 5,
   "id": "bf9cf89d",
   "metadata": {
    "id": "bf9cf89d"
   },
   "outputs": [],
   "source": [
    "def bs_vol_nm_call(s, k, r, t, price, p0, tol, n0):\n",
    "    \n",
    "    def f(sig):\n",
    "        return bs_call(s, k, r, t, sig) - price\n",
    "    \n",
    "    def fprime(sig):\n",
    "        const = 1/(sig * np.sqrt(t))\n",
    "        d1 = const * (np.log(s/k) + (r + ((1/2) * (sig ** 2))) * t)\n",
    "        return np.sqrt(t) * s * sp.norm.pdf(d1)\n",
    "    \n",
    "    i = 1\n",
    "    \n",
    "    while i<=n0:\n",
    "        \n",
    "        f_new = f(p0)\n",
    "        fprime_new = fprime(p0)\n",
    "        \n",
    "        p = p0 - (f_new/fprime_new)\n",
    "        p = float(p)\n",
    "        \n",
    "        if (np.abs(p-p0) < tol):\n",
    "            print('p = ', p)\n",
    "            print('i = ', i)\n",
    "            print('absolute error = ', abs((p-p0)))\n",
    "            print('relative error = ', abs((p-p0)/p))\n",
    "            break\n",
    "        \n",
    "        i += 1\n",
    "        \n",
    "        p0 = p\n",
    "        \n",
    "    if i>n0:\n",
    "        print('The method failed after N0 iterations, N0 = ', n0)"
   ]
  },
  {
   "cell_type": "markdown",
   "id": "e542f438",
   "metadata": {},
   "source": [
    "Newton's method can be rewritten to eliminate the need for a partial derivative evaluation. This results in the Secant Method:\n",
    "\n",
    "\\begin{align}\n",
    "p_n=p_{n-1} - \\frac{f(p_{n-1})(p_{n-1} - p_{n-2})}{f(p_{n-1})-f(p_{n-2})}.\n",
    "\\end{align}\n",
    "\n",
    "In this case, two initial approximations are needed as opposed to the one initial approximation in Newton's method. Therefore, the Secant method should need slightly more iterations to obtain an answer compared to Newton's method."
   ]
  },
  {
   "cell_type": "code",
   "execution_count": 6,
   "id": "e6b3c3ba",
   "metadata": {
    "id": "e6b3c3ba"
   },
   "outputs": [],
   "source": [
    "def bs_vol_s_call(s, k, r, t, price, p0, p1, tol, n0):\n",
    "    \n",
    "    def f(sig):\n",
    "        return bs_call(s, k, r, t, sig) - price\n",
    "    \n",
    "    num = 2\n",
    "    i = num - 1\n",
    "    \n",
    "    q0 = f(p0)\n",
    "    q1 = f(p1)\n",
    "    \n",
    "    while num<=n0:\n",
    "        \n",
    "        p = p0 - (p1-p0)*q0/(q1 - q0) \n",
    "        \n",
    "        if abs(p-p1) < tol:\n",
    "            \n",
    "            print('p = ',p)\n",
    "            print('i = ',i)\n",
    "            print('absolute error = ', abs((p-p1)))\n",
    "            print('relative error = ', abs((p-p1)/p))\n",
    "            break\n",
    "            \n",
    "        num += 1\n",
    "        i += 1\n",
    "        \n",
    "        p0 = p1\n",
    "        q0 = q1\n",
    "        p1 = p\n",
    "        q1 = f(p)"
   ]
  },
  {
   "cell_type": "markdown",
   "id": "f2af5844",
   "metadata": {},
   "source": [
    "Note that the absolute error and relative error are defined as follows to compare the accuracy of the three methods:\n",
    "\\begin{align}\n",
    "\\text{absolute error} = |p -p^{*}|\n",
    "\\end{align}\n",
    "\n",
    "\\begin{align}\n",
    "\\text{relative error} = \\frac{|p -p^{*}|}{p}.\n",
    "\\end{align}"
   ]
  },
  {
   "cell_type": "markdown",
   "id": "bf100fb8",
   "metadata": {},
   "source": [
    "# Results and Summary"
   ]
  },
  {
   "cell_type": "markdown",
   "id": "c0884469",
   "metadata": {},
   "source": [
    "The outputs of each calculation using Python are shown below:"
   ]
  },
  {
   "cell_type": "code",
   "execution_count": 7,
   "id": "52a6a64c",
   "metadata": {
    "id": "52a6a64c",
    "outputId": "7fae3e19-444e-458e-c2d3-e505c51efafe"
   },
   "outputs": [
    {
     "name": "stdout",
     "output_type": "stream",
     "text": [
      "CALCULATION #1:\n",
      "Bisection Method\n",
      "p =  0.24555458969853775\n",
      "i =  51\n",
      "absolute error =  3.0531133177191805e-16\n",
      "relative error =  1.2433542054609626e-15\n",
      "------------------------------\n",
      "Newton's Method\n",
      "p =  0.2455545896985378\n",
      "i =  4\n",
      "absolute error =  2.237654506132003e-13\n",
      "relative error =  9.11265600402389e-13\n",
      "------------------------------\n",
      "Secant Method\n",
      "p =  0.2455545896985379\n",
      "i =  6\n",
      "absolute error =  1.4535594949904862e-12\n",
      "relative error =  5.919496339999142e-12\n"
     ]
    }
   ],
   "source": [
    "print('CALCULATION #1:')\n",
    "print('Bisection Method')\n",
    "bs_vol_b_call(50, 55, 0.1, 0.5, 2.5, 10**(-3), 0.7, 10**(-9), 100)\n",
    "\n",
    "print('------------------------------')\n",
    "\n",
    "print('Newton\\'s Method')\n",
    "bs_vol_nm_call(50, 55, 0.1, 0.5, 2.5, 0.15, 10**(-9), 100)\n",
    "\n",
    "print('------------------------------')\n",
    "\n",
    "print('Secant Method')\n",
    "bs_vol_s_call(50, 55, 0.1, 0.5, 2.5, 0.045, 0.06, 10**(-9), 100)"
   ]
  },
  {
   "cell_type": "code",
   "execution_count": 8,
   "id": "917391e2",
   "metadata": {
    "id": "917391e2",
    "outputId": "e45ec37a-9fbe-4a05-81a6-c9e4079724cd"
   },
   "outputs": [
    {
     "name": "stdout",
     "output_type": "stream",
     "text": [
      "CALCULATION #2:\n",
      "Bisection Method\n",
      "p =  0.3213201631874866\n",
      "i =  51\n",
      "absolute error =  2.7755575615628914e-16\n",
      "relative error =  8.637981301980685e-16\n",
      "------------------------------\n",
      "Newton's Method\n",
      "p =  0.3213201631874865\n",
      "i =  6\n",
      "absolute error =  4.996003610813204e-16\n",
      "relative error =  1.5548366343565235e-15\n",
      "------------------------------\n",
      "Secant Method\n",
      "p =  0.32132016318748624\n",
      "i =  7\n",
      "absolute error =  4.18554080283684e-14\n",
      "relative error =  1.3026075803386886e-13\n"
     ]
    }
   ],
   "source": [
    "print('CALCULATION #2:')\n",
    "print('Bisection Method')\n",
    "bs_vol_b_call(50, 70, 0.2, 0.7, 2, 10**(-3), 0.7, 10**(-9), 100)\n",
    "\n",
    "print('------------------------------')\n",
    "\n",
    "print('Newton\\'s Method')\n",
    "bs_vol_nm_call(50, 70, 0.2, 0.7, 2, 0.15, 10**(-9), 100)\n",
    "\n",
    "print('------------------------------')\n",
    "\n",
    "print('Secant Method')\n",
    "bs_vol_s_call(50, 70, 0.2, 0.7, 2, 0.045, 0.5, 10**(-9), 100)"
   ]
  },
  {
   "cell_type": "code",
   "execution_count": 9,
   "id": "c5edf82c",
   "metadata": {
    "id": "c5edf82c",
    "outputId": "2c569c10-0669-495c-dac8-eb60217a703e"
   },
   "outputs": [
    {
     "name": "stdout",
     "output_type": "stream",
     "text": [
      "CALCULATION #3:\n",
      "Bisection Method\n",
      "p =  0.050041632022357535\n",
      "i =  51\n",
      "absolute error =  3.0531133177191805e-16\n",
      "relative error =  6.101146574026831e-15\n",
      "------------------------------\n",
      "Newton's Method\n",
      "p =  0.05004163202235638\n",
      "i =  6\n",
      "absolute error =  5.059522245609571e-12\n",
      "relative error =  1.0110625975086506e-10\n",
      "------------------------------\n",
      "Secant Method\n",
      "p =  0.05004163202235787\n",
      "i =  7\n",
      "absolute error =  2.5585020213547693e-12\n",
      "relative error =  5.112746962792237e-11\n"
     ]
    }
   ],
   "source": [
    "print('CALCULATION #3:')\n",
    "print('Bisection Method')\n",
    "bs_vol_b_call(100, 100, 0.1, 0.5, 5, 10**(-3), 0.7, 10**(-9), 100)\n",
    "\n",
    "print('------------------------------')\n",
    "\n",
    "print('Newton\\'s Method')\n",
    "bs_vol_nm_call(100, 100, 0.1, 0.5, 5, 0.15, 10**(-9), 100)\n",
    "\n",
    "print('------------------------------')\n",
    "\n",
    "print('Secant Method')\n",
    "bs_vol_s_call(100, 100, 0.1, 0.5, 5, 0.045, 0.7, 10**(-9), 100)"
   ]
  },
  {
   "cell_type": "markdown",
   "id": "18a2a56a",
   "metadata": {},
   "source": [
    "The Bisection method is the most accurate zero-finding method. This is shown with its absolute and relative error compared to the other methods. On the other hand, Newton's Method has the least amount of iterations for all three calculations. In fact, Newton's method processed less than seven iterations while the Bisection method processed fifty-one iterations for each computation. This implies that there exists a trade-off between accuracy and the amount of iterations."
   ]
  },
  {
   "cell_type": "markdown",
   "id": "afb351ee",
   "metadata": {},
   "source": [
    "The Secant method also processed less iterations than the Bisection method, but it completed a slightly higher amount of iterations compared to Newton's method. For example, in the first computation, the Secant method needed six iterations while Newton's method only needed four iterations. This makes sense because theoretically, the simplification of the Secant method eliminates the need for the derivative of the original function that is present in Newton's method. As a result, a trade-off for more iterations occurs. The Secant method, however, did not do as well as the other two methods in terms of accuracy with the exception of the third calculation."
   ]
  },
  {
   "cell_type": "markdown",
   "id": "bfeb19e4",
   "metadata": {},
   "source": [
    "After discovering that the Bisection method is the most accurate zero-finding method, I implemented it to find the implied volatility among different strike prices, given the same date of maturity. I compared these calculations with the information provided by Yahoo Finance. It turns out the calculations using the Bisection method are predominantly higher than the actual implied volatility of Intel for various strike prices, as shown below. Note that plotting these implied volatilities with the strike price creates a smile-like shape. The strike prices further away from the current stock price have higher implied volatility than those that are closer to it, which results in what is known as the volatility smile."
   ]
  },
  {
   "cell_type": "code",
   "execution_count": 10,
   "id": "36e88cb0",
   "metadata": {
    "id": "36e88cb0"
   },
   "outputs": [],
   "source": [
    "def bs_vol_bisection_call_yf(s, k, r, t, price, a, b, tol, n0):\n",
    "    \n",
    "    def f(sig):\n",
    "        return bs_call(s, k, r, t, sig) - price\n",
    "    \n",
    "    num = sci.optimize.bisect(f, a, b)\n",
    "    \n",
    "    return num"
   ]
  },
  {
   "cell_type": "code",
   "execution_count": 11,
   "id": "94a5c1ae",
   "metadata": {
    "id": "94a5c1ae",
    "outputId": "a9a89594-04d5-40a3-bc6d-99f8594c684b"
   },
   "outputs": [
    {
     "name": "stderr",
     "output_type": "stream",
     "text": [
      "<ipython-input-2-8aa2a709575e>:3: RuntimeWarning: divide by zero encountered in double_scalars\n",
      "  d1 = (1/(sig * np.sqrt(t))) * (np.log(s/k) + (r + ((1/2) * (sig ** 2))) * t)\n",
      "<ipython-input-2-8aa2a709575e>:4: RuntimeWarning: divide by zero encountered in double_scalars\n",
      "  d2 = (1/(sig * np.sqrt(t))) * (np.log(s/k) + (r - ((1/2) * (sig ** 2))) * t)\n"
     ]
    },
    {
     "data": {
      "text/plain": [
       "<matplotlib.legend.Legend at 0x7f89b7ae2850>"
      ]
     },
     "execution_count": 11,
     "metadata": {},
     "output_type": "execute_result"
    },
    {
     "data": {
      "image/png": "[encoded data removed]",
      "text/plain": [
       "<Figure size 432x288 with 1 Axes>"
      ]
     },
     "metadata": {
      "needs_background": "light"
     },
     "output_type": "display_data"
    }
   ],
   "source": [
    "intc = web.YahooOptions('INTC')\n",
    "intc.headers = {'User-Agent': 'Firefox'}\n",
    "c = intc.get_call_data()\n",
    "c.reset_index(inplace=True)\n",
    "c['Time'] = (c.Expiry - dt.datetime.now()).dt.days / 250 #250 trading days\n",
    "\n",
    "lst_call = []\n",
    "\n",
    "for i in c.itertuples():\n",
    "    v_call = bs_vol_bisection_call_yf(i.Underlying_Price, i.Strike, 0, i.Time, i.Ask, -10000, 10000, 10**(-8), 100)\n",
    "    lst_call.append(v_call)\n",
    "    \n",
    "plt.scatter(c.Strike, lst_call, label='Bisection Method')\n",
    "plt.scatter(c.Strike, c.IV, label='Yahoo Finance')\n",
    "plt.xlabel('Strike Price')\n",
    "plt.ylabel('Implied Volatility')\n",
    "plt.title('Implied Volatility vs. Strike Price: Intel')\n",
    "plt.legend() "
   ]
  },
  {
   "cell_type": "markdown",
   "id": "16d77c65",
   "metadata": {},
   "source": [
    "Although the Bisection method offers the highest accuracy when calculating implied volatility in the Black-Scholes-Merton model, all three of the zero-finding methods mentioned above are crucial to understanding numerical analysis and the mathematics that exists around us.\n"
   ]
  }
 ],
 "metadata": {
  "colab": {
   "provenance": []
  },
  "kernelspec": {
   "display_name": "Python 3",
   "language": "python",
   "name": "python3"
  },
  "language_info": {
   "codemirror_mode": {
    "name": "ipython",
    "version": 3
   },
   "file_extension": ".py",
   "mimetype": "text/x-python",
   "name": "python",
   "nbconvert_exporter": "python",
   "pygments_lexer": "ipython3",
   "version": "3.8.8"
  }
 },
 "nbformat": 4,
 "nbformat_minor": 5
}
